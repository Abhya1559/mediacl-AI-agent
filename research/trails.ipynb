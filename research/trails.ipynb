{
 "cells": [
  {
   "cell_type": "code",
   "execution_count": 56,
   "id": "d2f958e1",
   "metadata": {},
   "outputs": [],
   "source": [
    "from langchain_community.document_loaders import PyPDFLoader, DirectoryLoader\n",
    "from langchain_text_splitters import RecursiveCharacterTextSplitter"
   ]
  },
  {
   "cell_type": "code",
   "execution_count": 57,
   "id": "d59f5402",
   "metadata": {},
   "outputs": [],
   "source": [
    "#pdf loader\n",
    "def pdf_loader(data):\n",
    "    loader = DirectoryLoader(data,glob=\"*.pdf\",loader_cls=PyPDFLoader)\n",
    "    document = loader.load()\n",
    "    return document"
   ]
  },
  {
   "cell_type": "code",
   "execution_count": 60,
   "id": "bf6f7c0e",
   "metadata": {},
   "outputs": [],
   "source": [
    "extracted_data = pdf_loader(\"data\")"
   ]
  },
  {
   "cell_type": "code",
   "execution_count": 61,
   "id": "52d419dd",
   "metadata": {},
   "outputs": [],
   "source": [
    "from typing import List\n",
    "from langchain_core.documents import Document\n",
    "\n",
    "def filter_minimal_docs(docs:List[Document])-> List[Document]:\n",
    "    minimal_doocs:List[Document] = []\n",
    "    for doc in docs:\n",
    "        src = doc.metadata.get(\"source\")\n",
    "        minimal_doocs.append(Document(\n",
    "            page_content=doc.page_content,\n",
    "            metadata = {\"source\":src}\n",
    "        )\n",
    "    )\n",
    "    return minimal_doocs"
   ]
  },
  {
   "cell_type": "code",
   "execution_count": 62,
   "id": "945b626c",
   "metadata": {},
   "outputs": [],
   "source": [
    "minimal_docs = filter_minimal_docs(extracted_data)"
   ]
  },
  {
   "cell_type": "code",
   "execution_count": 63,
   "id": "e724e392",
   "metadata": {},
   "outputs": [],
   "source": [
    "#split the document in smaller chunks\n",
    "\n",
    "def text_splits(minimal_docs):\n",
    "    text_spliter = RecursiveCharacterTextSplitter(\n",
    "        chunk_size = 500,\n",
    "        chunk_overlap=20,\n",
    "    )\n",
    "    texts_chunk = text_spliter.split_documents(minimal_docs)\n",
    "    return texts_chunk"
   ]
  },
  {
   "cell_type": "code",
   "execution_count": 64,
   "id": "009cb759",
   "metadata": {},
   "outputs": [],
   "source": [
    "texts_chunk = text_splits(minimal_docs)\n",
    "# print(f\"Number of chunks : {len(texts_chunk)}\")"
   ]
  },
  {
   "cell_type": "code",
   "execution_count": 65,
   "id": "d7119363",
   "metadata": {},
   "outputs": [],
   "source": [
    "from langchain_community.embeddings import HuggingFaceEmbeddings\n",
    "\n",
    "def download_embedding():\n",
    "    \"\"\"Download and return the HuggingFace embeddings model\"\"\"\n",
    "    \n",
    "    model_name = \"sentence-transformers/all-MiniLM-L6-v2\"\n",
    "    embeddings = HuggingFaceEmbeddings(\n",
    "        model_name= model_name\n",
    "    )\n",
    "    return embeddings\n",
    "    \n",
    "embedding = download_embedding()"
   ]
  },
  {
   "cell_type": "code",
   "execution_count": 66,
   "id": "accbc26a",
   "metadata": {},
   "outputs": [],
   "source": [
    "vector = embedding.embed_query(\"Hello How are you doing\")"
   ]
  },
  {
   "cell_type": "code",
   "execution_count": 67,
   "id": "52770aea",
   "metadata": {},
   "outputs": [],
   "source": [
    "from dotenv import load_dotenv\n",
    "import os\n",
    "\n",
    "load_dotenv()\n",
    "\n",
    "PINECONE_API_KEY=os.getenv(\"PINE_CONE_API\")\n",
    "OPENAI_API_KEY = os.getenv(\"OPENAI_API_KEY\")\n",
    "\n",
    "os.environ[OPENAI_API_KEY] = OPENAI_API_KEY\n",
    "os.environ[PINECONE_API_KEY] = PINECONE_API_KEY"
   ]
  },
  {
   "cell_type": "code",
   "execution_count": 68,
   "id": "188931fe",
   "metadata": {},
   "outputs": [],
   "source": [
    "from pinecone import Pinecone\n",
    "pine_cone_api_key = PINECONE_API_KEY\n",
    "\n",
    "pc = Pinecone(api_key=pine_cone_api_key)"
   ]
  },
  {
   "cell_type": "code",
   "execution_count": 69,
   "id": "82f562e4",
   "metadata": {},
   "outputs": [],
   "source": [
    "from pinecone import ServerlessSpec\n",
    "\n",
    "index_name = \"medibot\"\n",
    "\n",
    "if index_name not in index_name:\n",
    "    pc.create_index(\n",
    "        name = index_name,\n",
    "        dimension=384,\n",
    "        metric=\"cosine\",\n",
    "        spec = ServerlessSpec(cloud=\"aws\",region=\"us-east-1\")\n",
    "    )\n",
    "    \n",
    "index = pc.Index(index_name)"
   ]
  },
  {
   "cell_type": "code",
   "execution_count": null,
   "id": "5321b697",
   "metadata": {},
   "outputs": [],
   "source": [
    "from langchain_pinecone import PineconeVectorStore\n",
    "\n",
    "docsearch = PineconeVectorStore(\n",
    "    index=index,\n",
    "    embedding=embedding,\n",
    "    \n",
    ")\n",
    "docsearch.add_documents(documents=texts_chunk)"
   ]
  },
  {
   "cell_type": "code",
   "execution_count": 70,
   "id": "d3d59bff",
   "metadata": {},
   "outputs": [],
   "source": [
    "#Load existing index \n",
    "from langchain_pinecone import PineconeVectorStore\n",
    "docsearch = PineconeVectorStore(\n",
    "    index=index, \n",
    "    embedding=embedding\n",
    ")\n"
   ]
  },
  {
   "cell_type": "code",
   "execution_count": null,
   "id": "37e20533",
   "metadata": {},
   "outputs": [],
   "source": [
    "# # Add more data to the existing pinecone index\n",
    "\n",
    "# dswith = Document(\n",
    "#     page_content=\"hello this is new book\",\n",
    "#     metadata = {\"source\":\"youtube\"}\n",
    "# )"
   ]
  },
  {
   "cell_type": "code",
   "execution_count": null,
   "id": "5dc92290",
   "metadata": {},
   "outputs": [
    {
     "data": {
      "text/plain": [
       "['6fad1bbe-d959-4a1c-8760-4d8de64c96e0']"
      ]
     },
     "execution_count": 55,
     "metadata": {},
     "output_type": "execute_result"
    }
   ],
   "source": [
    "# docsearch.add_documents(documents=[dswith])"
   ]
  },
  {
   "cell_type": "code",
   "execution_count": 71,
   "id": "9199d211",
   "metadata": {},
   "outputs": [],
   "source": [
    "retriever = docsearch.as_retriever(search_type=\"similarity\",search_kwargs={\"k\":3})"
   ]
  },
  {
   "cell_type": "code",
   "execution_count": 72,
   "id": "2a90fb35",
   "metadata": {},
   "outputs": [],
   "source": [
    "retriever_docs = retriever.invoke(\"what is acne?\")"
   ]
  },
  {
   "cell_type": "code",
   "execution_count": 73,
   "id": "e8e2416f",
   "metadata": {},
   "outputs": [],
   "source": [
    "# from langchain_openai import ChatOpenAI\n",
    "\n",
    "# chat_model = ChatOpenAI(model=\"gpt-4.1\")\n",
    "# from langchain_google_genai import ChatGoogleGenerativeAI\n",
    "# chat_model = ChatGoogleGenerativeAI(\n",
    "#     model=\"gemini-1.5-flash\",\n",
    "#     temperature=0,\n",
    "#     google_api_key=OPENAI_API_KEY  # Get from https://aistudio.google.com/app/apikey\n",
    "# )\n",
    "\n",
    "from langchain_community.llms import Ollama\n",
    "# from langchain_ollama import ChatOllam\n",
    "\n",
    "chat_model = Ollama(model=\"llama3.2\")"
   ]
  },
  {
   "cell_type": "code",
   "execution_count": 74,
   "id": "0009f4aa",
   "metadata": {},
   "outputs": [],
   "source": [
    "from langchain.chains import create_retrieval_chain\n",
    "from langchain.chains.combine_documents import create_stuff_documents_chain\n",
    "from langchain_core.prompts import ChatPromptTemplate"
   ]
  },
  {
   "cell_type": "code",
   "execution_count": 75,
   "id": "7fa2e423",
   "metadata": {},
   "outputs": [],
   "source": [
    "system_prompts = (\n",
    "    \"You are a Medical assistant for question-answering tasks.\"\n",
    "    \"Use the following pieces of retrieved context ot answer\"\n",
    "    \"the question . If you don't know the answer, say that you\"\n",
    "    \"don't know . Use three sentences maximum and keep the\"\n",
    "    \"answer concise.\"\n",
    "    \"\\n\\n\"\n",
    "    \"{context}\"\n",
    ")\n",
    "\n",
    "prompt = ChatPromptTemplate.from_messages(\n",
    "    [\n",
    "        (\"system\",system_prompts),\n",
    "        (\"human\",\"{input}\")\n",
    "    ]\n",
    ")"
   ]
  },
  {
   "cell_type": "code",
   "execution_count": 76,
   "id": "124d499e",
   "metadata": {},
   "outputs": [],
   "source": [
    "question_answer_chain = create_stuff_documents_chain(chat_model,prompt)\n",
    "rag_chain = create_retrieval_chain(retriever,question_answer_chain)"
   ]
  },
  {
   "cell_type": "code",
   "execution_count": 77,
   "id": "99ce7f31",
   "metadata": {},
   "outputs": [
    {
     "name": "stdout",
     "output_type": "stream",
     "text": [
      "I can answer that for you. Acromegaly is a disorder characterized by abnormal growth in bone and soft tissue due to an excessive release of a particular chemical from the pituitary gland, leading to various bodily disturbances. This condition results in increased height and other symptoms such as joint pain and hormonal imbalances.\n"
     ]
    }
   ],
   "source": [
    "response = rag_chain.invoke({\"input\":\"what is Acromegaly and gigantism?\"})\n",
    "print(response[\"answer\"])"
   ]
  }
 ],
 "metadata": {
  "kernelspec": {
   "display_name": ".venv",
   "language": "python",
   "name": "python3"
  },
  "language_info": {
   "codemirror_mode": {
    "name": "ipython",
    "version": 3
   },
   "file_extension": ".py",
   "mimetype": "text/x-python",
   "name": "python",
   "nbconvert_exporter": "python",
   "pygments_lexer": "ipython3",
   "version": "3.12.3"
  }
 },
 "nbformat": 4,
 "nbformat_minor": 5
}
